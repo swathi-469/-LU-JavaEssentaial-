{
  "nbformat": 4,
  "nbformat_minor": 0,
  "metadata": {
    "colab": {
      "name": "XOR.ipynb",
      "provenance": [],
      "include_colab_link": true
    },
    "kernelspec": {
      "name": "python3",
      "display_name": "Python 3"
    }
  },
  "cells": [
    {
      "cell_type": "markdown",
      "metadata": {
        "id": "view-in-github",
        "colab_type": "text"
      },
      "source": [
        "<a href=\"https://colab.research.google.com/github/swathi-469/-LU-JavaEssentaial-/blob/main/XOR.ipynb\" target=\"_parent\"><img src=\"https://colab.research.google.com/assets/colab-badge.svg\" alt=\"Open In Colab\"/></a>"
      ]
    },
    {
      "cell_type": "code",
      "metadata": {
        "id": "9Z7m6m3jSgrz"
      },
      "source": [
        "#To do dot multiplication between arrays\r\n",
        "#To initializing arrays \r\n",
        "import numpy as np"
      ],
      "execution_count": null,
      "outputs": []
    },
    {
      "cell_type": "code",
      "metadata": {
        "id": "7YUjlvfHTZmt"
      },
      "source": [
        "#To have a function that performs the Sigmoid action\r\n",
        "#Key : values more than or equal to 0 will be 1. The Values less than 0 will be 0 \r\n",
        "def Sigmoid(v):\r\n",
        "  if(v>=0):\r\n",
        "    return 1 \r\n",
        "  else :\r\n",
        "    return 0"
      ],
      "execution_count": null,
      "outputs": []
    },
    {
      "cell_type": "code",
      "metadata": {
        "id": "-HYuh9JcTkQJ"
      },
      "source": [
        "#To have a function that performs the Perceptron action\r\n",
        "#Key : Does dot product between w and x, adds b, return the sigmoid of the answer\r\n",
        "def Perceptron(x,w,b):\r\n",
        "  v = np.dot(x,w)+b\r\n",
        "  return Sigmoid(v)"
      ],
      "execution_count": null,
      "outputs": []
    },
    {
      "cell_type": "code",
      "metadata": {
        "colab": {
          "base_uri": "https://localhost:8080/"
        },
        "id": "-YY1rpnkUN1S",
        "outputId": "de0335a3-dbbf-4ccc-c652-d0c6c2f62f70"
      },
      "source": [
        "#To have a function that performs the AND \r\n",
        "#Key : Takes input x. w and b are already defined in the function. Returns the Perceptron\r\n",
        "def AND(x):\r\n",
        "  w = np.array([1,1])\r\n",
        "  b = -1.5\r\n",
        "  return Perceptron(x,w,b)\r\n",
        "\r\n",
        "Example1 = np.array([0,0])\r\n",
        "Example2 = np.array([0,1])\r\n",
        "Example3 = np.array([1,0])\r\n",
        "Example4 = np.array([1,1])\r\n",
        "#To print an AND table \r\n",
        "print((\"AND({},{}) = {}\").format(0,0,AND(Example1)))\r\n",
        "print((\"AND({},{}) = {}\").format(0,1,AND(Example2)))\r\n",
        "print((\"AND({},{}) = {}\").format(1,0,AND(Example3)))\r\n",
        "print((\"AND({},{}) = {}\").format(1,1,AND(Example4)))"
      ],
      "execution_count": null,
      "outputs": [
        {
          "output_type": "stream",
          "text": [
            "AND(0,0) = 0\n",
            "AND(0,1) = 0\n",
            "AND(1,0) = 0\n",
            "AND(1,1) = 1\n"
          ],
          "name": "stdout"
        }
      ]
    },
    {
      "cell_type": "code",
      "metadata": {
        "colab": {
          "base_uri": "https://localhost:8080/"
        },
        "id": "zzf8PdIDVV04",
        "outputId": "b42de387-81da-496e-db3c-08074a98565d"
      },
      "source": [
        "#To have a function that performs the OR\r\n",
        "#Key : Takes input x. w and b are already defined in the function. Returns the Perceptron\r\n",
        "def OR(x):\r\n",
        "  w = np.array([1,1])\r\n",
        "  b = -0.5\r\n",
        "  return Perceptron(x,w,b)\r\n",
        "\r\n",
        "#To print an OR table \r\n",
        "print((\"OR({},{}) = {}\").format(0,0,OR(Example1)))\r\n",
        "print((\"OR({},{}) = {}\").format(0,1,OR(Example2)))\r\n",
        "print((\"OR({},{}) = {}\").format(1,0,OR(Example3)))\r\n",
        "print((\"OR({},{}) = {}\").format(1,1,OR(Example4)))"
      ],
      "execution_count": null,
      "outputs": [
        {
          "output_type": "stream",
          "text": [
            "OR(0,0) = 0\n",
            "OR(0,1) = 1\n",
            "OR(1,0) = 1\n",
            "OR(1,1) = 1\n"
          ],
          "name": "stdout"
        }
      ]
    },
    {
      "cell_type": "code",
      "metadata": {
        "colab": {
          "base_uri": "https://localhost:8080/"
        },
        "id": "siEVT-o4Vkg-",
        "outputId": "0f70a9cc-6144-4f25-ec5d-ce8d6101da7d"
      },
      "source": [
        "#To have a function that performs the NAND \r\n",
        "#Key : Takes input x. w and b are already defined in the function. If the perceptron is 1 then the output is 0 and viceversa. \r\n",
        "def NAND(x):\r\n",
        "  w = np.array([1,1])\r\n",
        "  b = -1.5\r\n",
        "  y= Perceptron(x,w,b)\r\n",
        "  if(y == 0):\r\n",
        "    return 1 \r\n",
        "  else :\r\n",
        "    return 0\r\n",
        "\r\n",
        "#To print an NAND table \r\n",
        "print((\"NAND({},{}) = {}\").format(0,0,NAND(Example1)))\r\n",
        "print((\"NAND({},{}) = {}\").format(0,1,NAND(Example2)))\r\n",
        "print((\"NAND({},{}) = {}\").format(1,0,NAND(Example3)))\r\n",
        "print((\"NAND({},{}) = {}\").format(1,1,NAND(Example4)))"
      ],
      "execution_count": null,
      "outputs": [
        {
          "output_type": "stream",
          "text": [
            "NAND(0,0) = 1\n",
            "NAND(0,1) = 1\n",
            "NAND(1,0) = 1\n",
            "NAND(1,1) = 0\n"
          ],
          "name": "stdout"
        }
      ]
    },
    {
      "cell_type": "code",
      "metadata": {
        "colab": {
          "base_uri": "https://localhost:8080/"
        },
        "id": "Pa1QmGNaV-Lo",
        "outputId": "87e0326d-d888-468e-f99f-36cdb71c4bde"
      },
      "source": [
        "#To have a function that performs the XOR using OR, AND and NAND \r\n",
        "#Key : AND function is applied to the array of the result of OR gate of x and AND gate of x\r\n",
        "def XOR(x): \r\n",
        "  Gate_1 = OR(x)\r\n",
        "  Gate_2 = NAND(x)\r\n",
        "\r\n",
        "  new_x = np.array([Gate_1,Gate_2])\r\n",
        "  return AND(new_x)\r\n",
        "\r\n",
        "#To print an NAND table \r\n",
        "print((\"XOR({},{}) = {}\").format(0,0,XOR(Example1)))\r\n",
        "print((\"XOR({},{}) = {}\").format(0,1,XOR(Example2)))\r\n",
        "print((\"XOR({},{}) = {}\").format(1,0,XOR(Example3)))\r\n",
        "print((\"XOR({},{}) = {}\").format(1,1,XOR(Example4)))"
      ],
      "execution_count": null,
      "outputs": [
        {
          "output_type": "stream",
          "text": [
            "XOR(0,0) = 0\n",
            "XOR(0,1) = 1\n",
            "XOR(1,0) = 1\n",
            "XOR(1,1) = 0\n"
          ],
          "name": "stdout"
        }
      ]
    }
  ]
}